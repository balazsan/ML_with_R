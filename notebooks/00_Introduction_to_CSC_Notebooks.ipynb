{
 "cells": [
  {
   "cell_type": "markdown",
   "metadata": {
    "editable": false
   },
   "source": [
    "<font size=5>Short introduction to the CSC Notebooks environment</font><br><br>\n",
    "\n",
    "<font size=4>CSC – <b>IT Center for Science</b> is a Finnish center of expertise in information technology owned by the Finnish state and higher education institutions. For more information go to: https://www.csc.fi/en/about-us.<br>\n",
    "Some important information about the use of this service.</font>\n",
    "\n",
    "* <font size=4><b>All files and information</b> created and edited during the session <b>will be lost</b> as soon as the session is destroyed.</font><br><br>\n",
    "* <font size=4>You can save the notebooks between sessions with the outputs of code cells by going to File &rarr; Download as &rarr; HTML Embedded.<br>You can also download the entire course material from https://github.com/balazsan/ML_with_R.</font><br><br>\n",
    "* <font size=4>In Jupyter notebooks there are Markdown and Code cells. The former usually holds formatted text, the latter some kind of code (in our case R code) that can be run. You can see the type of cell by checking the drop-down list in the toolbar.</font><br><br>\n",
    "* <font size=4>It is possible for you to edit any content of the notebooks. You can add some notes/edit Code cells but also Markdown cells. Double click on the cell that you would like to edit and add your comments. The raw form of the Markdown cells is full of so called html tags enclosed in <\\> signs. You should not edit the content of these tags and links.</font><br><br>\n",
    "* <font size=4>It is recommendable to take the <b>User Interface Tour</b> in the <b>Help menu</b>.</font><br><br>\n",
    "* <font size=4>It is <b>important to destroy the session in the CSC Notebooks tab after not used anymore</b>. This way resources are freed up for use. Sessions will be destroyed automatically after 10 hours.</font><br><br>"
   ]
  }
 ],
 "metadata": {
  "kernelspec": {
   "display_name": "R",
   "language": "R",
   "name": "ir"
  },
  "language_info": {
   "codemirror_mode": "r",
   "file_extension": ".r",
   "mimetype": "text/x-r-source",
   "name": "R",
   "pygments_lexer": "r",
   "version": "3.6.3"
  },
  "toc-autonumbering": false,
  "toc-showcode": false,
  "toc-showmarkdowntxt": false,
  "toc-showtags": false
 },
 "nbformat": 4,
 "nbformat_minor": 4
}
