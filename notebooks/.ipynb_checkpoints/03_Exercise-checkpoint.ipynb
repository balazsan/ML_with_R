{
 "cells": [
  {
   "cell_type": "markdown",
   "metadata": {},
   "source": [
    "# Application of simple neural network in forest inventory #\n",
    "\n",
    "#### This a notebook exercise is about the usage of a fully connected shallow neural network in estimating forest attributes."
   ]
  },
  {
   "cell_type": "code",
   "execution_count": null,
   "metadata": {},
   "outputs": [],
   "source": [
    "library(keras)"
   ]
  },
  {
   "cell_type": "code",
   "execution_count": null,
   "metadata": {},
   "outputs": [],
   "source": [
    "source(\"../functions/keras_tf_funcs.R\")"
   ]
  },
  {
   "cell_type": "code",
   "execution_count": null,
   "metadata": {},
   "outputs": [],
   "source": [
    "# loading plot information\n",
    "sp.data.train <- read.csv(\"../data/AV.leaf.on.train.csv\",as.is=T)\n",
    "sp.data.val <- read.csv(\"../data/AV.leaf.on.val.csv\",as.is=T)\n",
    "sp.data.test <- read.csv(\"../data/AV.leaf.on.test.csv\",as.is=T)\n",
    "\n",
    "# loading features\n",
    "feat <- readRDS(\"../data/las.feat.AV-MK.leaf.on.RDS\")\n",
    "\n",
    "feat.train <- feat[feat$sampleplotid%in%sp.data.train$sampleplotid,]\n",
    "feat.val <- feat[feat$sampleplotid%in%sp.data.val$sampleplotid,]\n",
    "feat.test <- feat[feat$sampleplotid%in%sp.data.test$sampleplotid,]\n",
    "\n",
    "# dropping columns w/o useful information (standard deviation is 0 or NaN/NA)\n",
    "feat.train <- feat.train[,apply(feat.train,2,function(x) !(sd(x)==0|is.na(sd(x))))]\n",
    "feat.val <- feat.val[,apply(feat.val,2,function(x) !(sd(x)==0|is.na(sd(x))))]\n",
    "feat.test <- feat.test[,apply(feat.test,2,function(x) !(sd(x)==0|is.na(sd(x))))]\n",
    "# keeping only features common in the two sets\n",
    "feat.common <- Reduce(intersect,list(names(feat.train),names(feat.val),names(feat.test)))\n",
    "feat.train <- feat.train[,feat.common]\n",
    "feat.val <- feat.val[,feat.common]\n",
    "feat.test <- feat.test[,feat.common]; rm(feat.common)\n",
    "\n",
    "# adjusting column names\n",
    "names(sp.data.train) <- gsub(\"\\\\.\",\"_\",names(sp.data.train))\n",
    "names(sp.data.val) <- gsub(\"\\\\.\",\"_\",names(sp.data.val))\n",
    "names(sp.data.test) <- gsub(\"\\\\.\",\"_\",names(sp.data.test))\n",
    "\n",
    "# plot(sp.data$h,feat$hq85.f)\n",
    "cor(sp.data.train$h,feat.train$hq85.f) #OK\n",
    "cor(sp.data.val$h,feat.val$hq85.f) #OK\n",
    "cor(sp.data.test$h,feat.test$hq85.f) #OK\n",
    "\n",
    "# forest attributes\n",
    "for.attrs <- c(\"v\",\"h\",\"d\")\n",
    "\n",
    "# datasets\n",
    "d.sets <- c(\"train\",\"val\",\"test\")\n",
    "\n",
    "# creating input for TF\n",
    "if (grepl(\"id|sampleplotid\",names(feat.train)[1])) train.data <- feat.train[,-1] else train.data <- feat.train\n",
    "if (grepl(\"id|sampleplotid\",names(feat.val)[1])) val.data <- feat.val[,-1] else val.data <- feat.val\n",
    "if (grepl(\"id|sampleplotid\",names(feat.test)[1])) test.data <- feat.test[,-1] else test.data <- feat.test\n",
    "train.labels <- sp.data.train[,for.attrs]\n",
    "val.labels <- sp.data.val[,for.attrs]\n",
    "test.labels <- sp.data.test[,for.attrs]\n"
   ]
  },
  {
   "cell_type": "code",
   "execution_count": null,
   "metadata": {},
   "outputs": [],
   "source": [
    "n.neur <- 6\n",
    "\n",
    "# declaring functions used during training\n",
    "opt <- \"adam\"; act <- \"swish\"\n",
    "# output directory\n",
    "out.dir <- paste0(\"../AV_3layers_\",n.neur,\"neur_\",opt,\"_\",act,\"_multi\")\n",
    "\n",
    "preds.w <- c(0.6,0.2,0.2)\n",
    "tf.runs <- lapply(1:3,function(i) {\n",
    "  IRdisplay::display(paste0(\"Running iteration #\",i))\n",
    "  out.tmp <- tf.model.res(train.data,train.labels,val.data,val.labels,n.neur=n.neur,\n",
    "                          scl=\"both\",preds.w=preds.w,act=act,opt=opt,epochs=200,\n",
    "                          patience=20,batch_size=25,metric=\"rmse\",outdir=out.dir)\n",
    "  row.names(out.tmp) <- paste0(row.names(out.tmp),\".run\",i)\n",
    "  return(out.tmp)\n",
    "}); cat(\"\\n\")"
   ]
  },
  {
   "cell_type": "code",
   "execution_count": null,
   "metadata": {},
   "outputs": [],
   "source": []
  }
 ],
 "metadata": {
  "kernelspec": {
   "display_name": "R",
   "language": "R",
   "name": "ir"
  },
  "language_info": {
   "codemirror_mode": "r",
   "file_extension": ".r",
   "mimetype": "text/x-r-source",
   "name": "R",
   "pygments_lexer": "r",
   "version": "3.6.3"
  },
  "toc-autonumbering": false,
  "toc-showcode": false,
  "toc-showmarkdowntxt": false,
  "toc-showtags": false
 },
 "nbformat": 4,
 "nbformat_minor": 4
}
